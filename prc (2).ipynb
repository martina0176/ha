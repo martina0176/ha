{
 "cells": [
  {
   "cell_type": "code",
   "execution_count": 1,
   "metadata": {},
   "outputs": [],
   "source": [
    "import pandas as pd\n",
    "import numpy as np\n",
    "import sys\n",
    "import math\n",
    "import csv\n",
    "import urllib\n",
    "import collections\n",
    "\n",
    "#import scikit-learn libraries for implementation of machine learning algorithms\n",
    "import sklearn"
   ]
  },
  {
   "cell_type": "code",
   "execution_count": 2,
   "metadata": {},
   "outputs": [
    {
     "name": "stderr",
     "output_type": "stream",
     "text": [
      "C:\\ProgramData\\Anaconda3\\lib\\site-packages\\sklearn\\cross_validation.py:41: DeprecationWarning: This module was deprecated in version 0.18 in favor of the model_selection module into which all the refactored classes and functions are moved. Also note that the interface of the new CV iterators are different from that of this module. This module will be removed in 0.20.\n",
      "  \"This module will be removed in 0.20.\", DeprecationWarning)\n"
     ]
    }
   ],
   "source": [
    "#recursive feature elimination\n",
    "from sklearn import datasets\n",
    "from sklearn.feature_selection import RFE\n",
    "from sklearn.linear_model import LogisticRegression\n",
    "\n",
    "#feature importance\n",
    "from sklearn import metrics\n",
    "from sklearn.ensemble import ExtraTreesClassifier\n",
    "\n",
    "# to create predictions\n",
    "from sklearn.cross_validation import train_test_split\n",
    "\n",
    "#algorithms tested\n",
    "from sklearn import svm\n",
    "from sklearn.svm import SVC\n",
    "from sklearn.svm import LinearSVC\n",
    "from sklearn import linear_model\n",
    "from sklearn import tree\n",
    "from sklearn.cross_validation import cross_val_score\n",
    "from sklearn.neighbors import KNeighborsClassifier\n",
    "from sklearn.ensemble import GradientBoostingRegressor\n",
    "from sklearn.ensemble import GradientBoostingClassifier\n",
    "from sklearn.ensemble import RandomForestClassifier\n",
    "from sklearn.ensemble import AdaBoostClassifier\n",
    "from sklearn.metrics import classification_report\n",
    "from sklearn.model_selection import train_test_split"
   ]
  },
  {
   "cell_type": "code",
   "execution_count": 4,
   "metadata": {},
   "outputs": [],
   "source": [
    "epl9318 = pd.read_csv(\"C:\\gusdk\\deep\\EPL_Set.csv\", sep = \",\",engine='python')"
   ]
  },
  {
   "cell_type": "code",
   "execution_count": 5,
   "metadata": {},
   "outputs": [
    {
     "data": {
      "text/plain": [
       "(9674, 76)"
      ]
     },
     "execution_count": 5,
     "metadata": {},
     "output_type": "execute_result"
    }
   ],
   "source": [
    "epl9318.shape"
   ]
  },
  {
   "cell_type": "code",
   "execution_count": 6,
   "metadata": {},
   "outputs": [
    {
     "data": {
      "text/plain": [
       "Index(['Date', 'HomeTeam', 'AwayTeam', 'FTHG', 'FTAG', 'FTR', 'HTHG', 'HTAG',\n",
       "       'HTR', 'Season', 'Winner', 'Loser', 'Referee', 'HS', 'AS', 'HST', 'AST',\n",
       "       'HHW', 'AHW', 'HC', 'AC', 'HF', 'AF', 'HO', 'AO', 'HY', 'AY', 'HR',\n",
       "       'AR', 'HBP', 'ABP', 'Unnamed: 31', 'Unnamed: 32', 'Unnamed: 33',\n",
       "       'Unnamed: 34', 'Unnamed: 35', 'Unnamed: 36', 'Unnamed: 37',\n",
       "       'Unnamed: 38', 'Unnamed: 39', 'Unnamed: 40', 'Unnamed: 41',\n",
       "       'Unnamed: 42', 'Unnamed: 43', 'Unnamed: 44', 'Unnamed: 45', 'Bb1X2',\n",
       "       'BbMxH', 'BbAvH', 'BbMxD', 'BbAvD', 'BbMxA', 'BbAvA', 'BbOU',\n",
       "       'BbMx>2.5', 'BbAv>2.5', 'BbMx<2.5', 'BbAv<2.5', 'BbAH', 'BbAHh',\n",
       "       'BbMxAHH', 'BbAvAHH', 'BbMxAHA', 'BbAvAHA', 'PSCH', 'PSCD', 'PSCA',\n",
       "       'Unnamed: 67', 'Unnamed: 68', 'Unnamed: 69', 'Unnamed: 70',\n",
       "       'Unnamed: 71', 'Unnamed: 72', 'Unnamed: 73', 'Unnamed: 74',\n",
       "       'Unnamed: 75'],\n",
       "      dtype='object')"
      ]
     },
     "execution_count": 6,
     "metadata": {},
     "output_type": "execute_result"
    }
   ],
   "source": [
    "epl9318.columns"
   ]
  },
  {
   "cell_type": "code",
   "execution_count": 7,
   "metadata": {},
   "outputs": [
    {
     "data": {
      "text/html": [
       "<div>\n",
       "<style scoped>\n",
       "    .dataframe tbody tr th:only-of-type {\n",
       "        vertical-align: middle;\n",
       "    }\n",
       "\n",
       "    .dataframe tbody tr th {\n",
       "        vertical-align: top;\n",
       "    }\n",
       "\n",
       "    .dataframe thead th {\n",
       "        text-align: right;\n",
       "    }\n",
       "</style>\n",
       "<table border=\"1\" class=\"dataframe\">\n",
       "  <thead>\n",
       "    <tr style=\"text-align: right;\">\n",
       "      <th></th>\n",
       "      <th>Date</th>\n",
       "      <th>HomeTeam</th>\n",
       "      <th>AwayTeam</th>\n",
       "      <th>FTHG</th>\n",
       "      <th>FTAG</th>\n",
       "      <th>FTR</th>\n",
       "      <th>Season</th>\n",
       "      <th>Winner</th>\n",
       "      <th>Loser</th>\n",
       "    </tr>\n",
       "  </thead>\n",
       "  <tbody>\n",
       "    <tr>\n",
       "      <th>0</th>\n",
       "      <td>14/08/1993</td>\n",
       "      <td>Arsenal</td>\n",
       "      <td>Coventry</td>\n",
       "      <td>0</td>\n",
       "      <td>3</td>\n",
       "      <td>A</td>\n",
       "      <td>1993</td>\n",
       "      <td>Coventry</td>\n",
       "      <td>Arsenal</td>\n",
       "    </tr>\n",
       "    <tr>\n",
       "      <th>1</th>\n",
       "      <td>14/08/1993</td>\n",
       "      <td>Aston Villa</td>\n",
       "      <td>QPR</td>\n",
       "      <td>4</td>\n",
       "      <td>1</td>\n",
       "      <td>H</td>\n",
       "      <td>1993</td>\n",
       "      <td>Aston Villa</td>\n",
       "      <td>QPR</td>\n",
       "    </tr>\n",
       "    <tr>\n",
       "      <th>2</th>\n",
       "      <td>14/08/1993</td>\n",
       "      <td>Chelsea</td>\n",
       "      <td>Blackburn</td>\n",
       "      <td>1</td>\n",
       "      <td>2</td>\n",
       "      <td>A</td>\n",
       "      <td>1993</td>\n",
       "      <td>Blackburn</td>\n",
       "      <td>Chelsea</td>\n",
       "    </tr>\n",
       "    <tr>\n",
       "      <th>3</th>\n",
       "      <td>14/08/1993</td>\n",
       "      <td>Liverpool</td>\n",
       "      <td>Sheffield Weds</td>\n",
       "      <td>2</td>\n",
       "      <td>0</td>\n",
       "      <td>H</td>\n",
       "      <td>1993</td>\n",
       "      <td>Liverpool</td>\n",
       "      <td>Sheffield Weds</td>\n",
       "    </tr>\n",
       "    <tr>\n",
       "      <th>4</th>\n",
       "      <td>14/08/1993</td>\n",
       "      <td>Man City</td>\n",
       "      <td>Leeds</td>\n",
       "      <td>1</td>\n",
       "      <td>1</td>\n",
       "      <td>D</td>\n",
       "      <td>1993</td>\n",
       "      <td>None</td>\n",
       "      <td>None</td>\n",
       "    </tr>\n",
       "  </tbody>\n",
       "</table>\n",
       "</div>"
      ],
      "text/plain": [
       "         Date     HomeTeam        AwayTeam  FTHG  FTAG FTR  Season  \\\n",
       "0  14/08/1993      Arsenal        Coventry     0     3   A    1993   \n",
       "1  14/08/1993  Aston Villa             QPR     4     1   H    1993   \n",
       "2  14/08/1993      Chelsea       Blackburn     1     2   A    1993   \n",
       "3  14/08/1993    Liverpool  Sheffield Weds     2     0   H    1993   \n",
       "4  14/08/1993     Man City           Leeds     1     1   D    1993   \n",
       "\n",
       "        Winner           Loser  \n",
       "0     Coventry         Arsenal  \n",
       "1  Aston Villa             QPR  \n",
       "2    Blackburn         Chelsea  \n",
       "3    Liverpool  Sheffield Weds  \n",
       "4         None            None  "
      ]
     },
     "execution_count": 7,
     "metadata": {},
     "output_type": "execute_result"
    }
   ],
   "source": [
    "epl9318 = epl9318[[\"Date\",\"HomeTeam\",\"AwayTeam\",\"FTHG\",\"FTAG\",\"FTR\",\"Season\",\"Winner\",\"Loser\"]]\n",
    "epl9318.head()"
   ]
  },
  {
   "cell_type": "code",
   "execution_count": 8,
   "metadata": {},
   "outputs": [
    {
     "data": {
      "text/plain": [
       "13"
      ]
     },
     "execution_count": 8,
     "metadata": {},
     "output_type": "execute_result"
    }
   ],
   "source": [
    "a = epl9318[epl9318['Season'] == 1993]\n",
    "a = a[a['Winner'] == 'Chelsea']\n",
    "b = len(a)\n",
    "b"
   ]
  },
  {
   "cell_type": "code",
   "execution_count": 9,
   "metadata": {},
   "outputs": [
    {
     "data": {
      "text/plain": [
       "'Chelsea'"
      ]
     },
     "execution_count": 9,
     "metadata": {},
     "output_type": "execute_result"
    }
   ],
   "source": [
    "teamlist = epl9318['HomeTeam'].unique()\n",
    "teamlistlen = len(teamlist)\n",
    "teamlist[2]"
   ]
  },
  {
   "cell_type": "code",
   "execution_count": 10,
   "metadata": {},
   "outputs": [],
   "source": [
    "def getAnnualTeamData(teamname,season):\n",
    "\n",
    "    annual_data = epl9318[epl9318['Season'] == season]\n",
    "    \n",
    "    # num goals scored in wins and losses\n",
    "    gamesHome = annual_data[annual_data['HomeTeam'] == teamname]\n",
    "    totalGoalsScored = gamesHome['FTHG'].sum()\n",
    "    gamesAway = annual_data[annual_data['AwayTeam'] == teamname]\n",
    "    totalGames = gamesHome.append(gamesAway)\n",
    "    numGames = len(totalGames.index)\n",
    "    \n",
    "    #total goals scored\n",
    "    totalGoalsScored += gamesAway['FTAG'].sum()\n",
    "    \n",
    "    #total goals allowed\n",
    "    totalGoalsAllowed = gamesHome['FTAG'].sum()\n",
    "    totalGoalsAllowed += gamesAway['FTHG'].sum()\n",
    "    \n",
    "    #games won percentage = games won / (games won + games lost)\n",
    "    gamesWon = annual_data[annual_data[\"Winner\"] == teamname] \n",
    "    gamesLost = annual_data[annual_data[\"Loser\"] == teamname]\n",
    "    numGamesWon = len(gamesWon.index)\n",
    "    numGamesLost = len(gamesLost.index)\n",
    "    if numGames != 0:\n",
    "        gamesWonPercentage = numGamesWon / numGames\n",
    "        \n",
    "    if numGames == 0:\n",
    "        gamesWon = 0\n",
    "        gamesLost = 0\n",
    "        totalGoalsScored = 0\n",
    "        totalGoalsAllowed = 0\n",
    "        gamesWonPercentage = 0\n",
    "    \n",
    "    return [totalGoalsScored, totalGoalsAllowed, gamesWonPercentage]"
   ]
  },
  {
   "cell_type": "code",
   "execution_count": 11,
   "metadata": {},
   "outputs": [
    {
     "data": {
      "text/plain": [
       "[59, 53, 0.3157894736842105]"
      ]
     },
     "execution_count": 11,
     "metadata": {},
     "output_type": "execute_result"
    }
   ],
   "source": [
    "getAnnualTeamData('Chelsea',2015)"
   ]
  },
  {
   "cell_type": "code",
   "execution_count": 12,
   "metadata": {},
   "outputs": [],
   "source": [
    "#create a dictionary for all the team stats in a year for all the teams\n",
    "def createAnnualDict(year):\n",
    "    annualDictionary = collections.defaultdict(list)\n",
    "    for i in range(teamlistlen):\n",
    "        team = teamlist[i]\n",
    "        team_vector = getAnnualTeamData(team, year)\n",
    "        annualDictionary[team] = team_vector\n",
    "    \n",
    "    return annualDictionary "
   ]
  },
  {
   "cell_type": "code",
   "execution_count": 13,
   "metadata": {},
   "outputs": [
    {
     "data": {
      "text/plain": [
       "defaultdict(list,\n",
       "            {'Arsenal': [65, 36, 0.5263157894736842],\n",
       "             'Aston Villa': [27, 76, 0.07894736842105263],\n",
       "             'Chelsea': [59, 53, 0.3157894736842105],\n",
       "             'Liverpool': [63, 50, 0.42105263157894735],\n",
       "             'Man City': [71, 41, 0.5],\n",
       "             'Newcastle': [44, 65, 0.23684210526315788],\n",
       "             'Oldham': [0, 0, 0],\n",
       "             'Sheffield United': [0, 0, 0],\n",
       "             'Southampton': [59, 41, 0.47368421052631576],\n",
       "             'West Ham': [65, 51, 0.42105263157894735],\n",
       "             'Norwich': [39, 67, 0.23684210526315788],\n",
       "             'Tottenham': [69, 35, 0.5],\n",
       "             'Everton': [59, 55, 0.2894736842105263],\n",
       "             'Ipswich': [0, 0, 0],\n",
       "             'Leeds': [0, 0, 0],\n",
       "             'Wimbledon': [0, 0, 0],\n",
       "             'Blackburn': [0, 0, 0],\n",
       "             'Coventry': [0, 0, 0],\n",
       "             'Man United': [49, 35, 0.5],\n",
       "             'QPR': [0, 0, 0],\n",
       "             'Sheffield Weds': [0, 0, 0],\n",
       "             'Swindon': [0, 0, 0],\n",
       "             'Crystal Palace': [39, 51, 0.2894736842105263],\n",
       "             'Leicester': [68, 36, 0.6052631578947368],\n",
       "             \"Nott'm Forest\": [0, 0, 0],\n",
       "             'Bolton': [0, 0, 0],\n",
       "             'Middlesbrough': [0, 0, 0],\n",
       "             'Derby': [0, 0, 0],\n",
       "             'Sunderland': [48, 62, 0.23684210526315788],\n",
       "             'Barnsley': [0, 0, 0],\n",
       "             'Charlton': [0, 0, 0],\n",
       "             'Watford': [40, 50, 0.3157894736842105],\n",
       "             'Bradford': [0, 0, 0],\n",
       "             'Fulham': [0, 0, 0],\n",
       "             'Birmingham': [0, 0, 0],\n",
       "             'Middlesboro': [0, 0, 0],\n",
       "             'West Brom': [34, 48, 0.2631578947368421],\n",
       "             'Portsmouth': [0, 0, 0],\n",
       "             'Wolves': [0, 0, 0],\n",
       "             'Wigan': [0, 0, 0],\n",
       "             'Reading': [0, 0, 0],\n",
       "             'Hull': [0, 0, 0],\n",
       "             'Stoke': [41, 55, 0.3684210526315789],\n",
       "             'Burnley': [0, 0, 0],\n",
       "             'Blackpool': [0, 0, 0],\n",
       "             'Swansea': [42, 52, 0.3157894736842105],\n",
       "             'Cardiff': [0, 0, 0],\n",
       "             'Bournemouth': [45, 67, 0.2894736842105263],\n",
       "             'Brighton': [0, 0, 0],\n",
       "             'Huddersfield': [0, 0, 0]})"
      ]
     },
     "execution_count": 13,
     "metadata": {},
     "output_type": "execute_result"
    }
   ],
   "source": [
    "createAnnualDict(2015)"
   ]
  },
  {
   "cell_type": "code",
   "execution_count": 14,
   "metadata": {},
   "outputs": [],
   "source": [
    "def getTrainingData(years):\n",
    "    totalNumGames = 0\n",
    "    for year in years:\n",
    "        annual = epl9318[epl9318['Season'] == year]\n",
    "        totalNumGames += len(annual.index)\n",
    "    numFeatures = len(getAnnualTeamData('Arsenal',2015))\n",
    "    xTrain = np.zeros((totalNumGames, numFeatures))\n",
    "    yTrain = np.zeros((totalNumGames))\n",
    "    indexCounter = 0\n",
    "    for year in years:\n",
    "        team_vectors = createAnnualDict(year)\n",
    "        annual = epl9318[epl9318['Season'] == year]\n",
    "        numGamesInYear = len(annual.index)\n",
    "        xTrainAnnual = np.zeros((numGamesInYear, numFeatures))\n",
    "        yTrainAnnual = np.zeros((numGamesInYear))\n",
    "        counter = 0\n",
    "        for index, row in annual.iterrows():\n",
    "            h_team = row['HomeTeam']\n",
    "            h_vector = team_vectors[h_team]\n",
    "            a_team = row['AwayTeam']\n",
    "            a_vector = team_vectors[a_team]\n",
    "            diff = [a - b for a,b, in zip(h_vector,a_vector)]\n",
    "            if (counter % 2 == 0):\n",
    "                if len(diff) != 0:\n",
    "                    xTrainAnnual[counter] = diff\n",
    "                yTrainAnnual[counter] = 1\n",
    "            else:\n",
    "                if len(diff) != 0:\n",
    "                    xTrainAnnual[counter] = [-p for p in diff]\n",
    "                yTrainAnnual[counter] = 0\n",
    "            counter += 1\n",
    "        xTrain[indexCounter:numGamesInYear + indexCounter] = xTrainAnnual\n",
    "        yTrain[indexCounter:numGamesInYear + indexCounter] = yTrainAnnual\n",
    "        indexCounter += numGamesInYear\n",
    "    return xTrain, yTrain"
   ]
  },
  {
   "cell_type": "code",
   "execution_count": 15,
   "metadata": {},
   "outputs": [],
   "source": [
    "years = range(1993,2015)\n",
    "xTrain, yTrain = getTrainingData(years)\n",
    "np.save('xTrain',xTrain)\n",
    "np.save('yTrain',yTrain)"
   ]
  },
  {
   "cell_type": "code",
   "execution_count": 16,
   "metadata": {},
   "outputs": [
    {
     "data": {
      "text/plain": [
       "(8524, 3)"
      ]
     },
     "execution_count": 16,
     "metadata": {},
     "output_type": "execute_result"
    }
   ],
   "source": [
    "xTrain.shape"
   ]
  },
  {
   "cell_type": "code",
   "execution_count": 17,
   "metadata": {},
   "outputs": [
    {
     "data": {
      "text/plain": [
       "(8524,)"
      ]
     },
     "execution_count": 17,
     "metadata": {},
     "output_type": "execute_result"
    }
   ],
   "source": [
    "yTrain.shape"
   ]
  },
  {
   "cell_type": "code",
   "execution_count": 18,
   "metadata": {},
   "outputs": [],
   "source": [
    "#Tried all the following models\n",
    "#Im = linear_model.LinearRegression() #0.49\n",
    "#Im = tree.DecisionTreeClassifier() #0.41\n",
    "#Im = tree.DecisionTreeRegressor() #0.502\n",
    "Im = linear_model.LogisticRegression() #0.38\n",
    "#Im = linear_model.BayesianRidge() #0.498\n",
    "#m = linear_model.Lasso() #0.495\n",
    "#Im = svm.SVC() #0.518\n",
    "#Im = svm.SVR() #0.5\n",
    "#Im = linear_model.Ridge(alpha = 0.5) #0.505\n",
    "#Im = AdaBoostClassifier(n_estimators = 100) #0.471\n",
    "####Im = GradientBoostingClassifer(n_estimators = 100)\n",
    "#Im = GradientBoostingRegressor(n_estimators = 100, max_depth = 9) #0.496\n",
    "#m = RandomForestClassifier(n_estimators = 100) #0.505\n",
    "#Im = KNeighborsClassifier(n_neighbors = 30) #not possible with only 10 features"
   ]
  },
  {
   "cell_type": "code",
   "execution_count": 19,
   "metadata": {},
   "outputs": [
    {
     "name": "stdout",
     "output_type": "stream",
     "text": [
      "(6393, 3) (6393,)\n",
      "(2131, 3) (2131,)\n",
      "0.5771938057250118\n"
     ]
    }
   ],
   "source": [
    "xTrain, X_test, yTrain, Y_test = train_test_split(xTrain,yTrain)\n",
    "print (xTrain.shape, yTrain.shape)\n",
    "print (X_test.shape, Y_test.shape)\n",
    "\n",
    "model2 = Im.fit(xTrain,yTrain)\n",
    "predictions = Im.predict(X_test)\n",
    "\n",
    "print ((sum(predictions))/(len(predictions)))"
   ]
  },
  {
   "cell_type": "code",
   "execution_count": 20,
   "metadata": {},
   "outputs": [],
   "source": [
    "def createGamePrediction(team1_vector, team2_vector, xTrain, yTrain):\n",
    "    xTrain, X_test, yTrain, Y_test = train_test_split(xTrain, yTrain)\n",
    "    Im = linear_model.LogisticRegression()\n",
    "    model2 = Im.fit(xTrain, yTrain)\n",
    "    diff = [ a - b for a,b in zip(team1_vector, team2_vector)]\n",
    "    predictions = Im.predict([diff])\n",
    "    predictions = ((sum(predictions))/(len(predictions)))\n",
    "    return predictions"
   ]
  },
  {
   "cell_type": "code",
   "execution_count": 21,
   "metadata": {},
   "outputs": [
    {
     "name": "stdout",
     "output_type": "stream",
     "text": [
      "Probability that Aresenal wins :  1.0\n",
      "Probability that Chelsea wins :  1.0\n"
     ]
    }
   ],
   "source": [
    "team1_vector = getAnnualTeamData('Aresenal',2017)\n",
    "team2_vector = getAnnualTeamData('Chelsea',2017)\n",
    "team3_vector = getAnnualTeamData('Man City',2017)\n",
    "\n",
    "print ('Probability that ' + 'Aresenal' + ' wins : ', createGamePrediction(team1_vector, team2_vector, xTrain, yTrain))\n",
    "print ('Probability that ' +'Chelsea' + ' wins : ', createGamePrediction(team2_vector, team1_vector, xTrain, yTrain))"
   ]
  },
  {
   "cell_type": "code",
   "execution_count": 22,
   "metadata": {},
   "outputs": [],
   "source": [
    "epltest = pd.read_csv(\"C:\\\\gusdk\\\\deep\\\\EPL_Set.csv\", sep = \",\",engine='python')"
   ]
  },
  {
   "cell_type": "code",
   "execution_count": 23,
   "metadata": {},
   "outputs": [
    {
     "name": "stdout",
     "output_type": "stream",
     "text": [
      "1.0\n"
     ]
    }
   ],
   "source": [
    "team1_vector = getAnnualTeamData('Arsenal',2017)\n",
    "team2_vector = getAnnualTeamData('Crystal Palace',2017)\n",
    "print (createGamePrediction(team1_vector, team2_vector, xTrain, yTrain))"
   ]
  },
  {
   "cell_type": "code",
   "execution_count": 24,
   "metadata": {},
   "outputs": [
    {
     "name": "stdout",
     "output_type": "stream",
     "text": [
      "1.0\n"
     ]
    }
   ],
   "source": [
    "team1_vector = getAnnualTeamData('Burnley',2017)\n",
    "team2_vector = getAnnualTeamData('Man United',2017)\n",
    "print (createGamePrediction(team1_vector, team2_vector, xTrain, yTrain))"
   ]
  },
  {
   "cell_type": "code",
   "execution_count": 25,
   "metadata": {},
   "outputs": [
    {
     "data": {
      "text/plain": [
       "9674"
      ]
     },
     "execution_count": 25,
     "metadata": {},
     "output_type": "execute_result"
    }
   ],
   "source": [
    "len(epltest.index)"
   ]
  },
  {
   "cell_type": "code",
   "execution_count": 33,
   "metadata": {},
   "outputs": [],
   "source": [
    "def formulatePrediction():\n",
    "    probs = [[0 for x in range(3)] for x in range(len(epltest.index))]\n",
    "    for index, row in epltest.iterrows():\n",
    "        year = row['Season']\n",
    "        team1_Name = row['HomeTeam']\n",
    "        team2_Name = row['AwayTeam']\n",
    "        team1_vector = getAnnualTeamData(team1_Name,year)\n",
    "        team2_vector = getAnnualTeamData(team2_Name,year)\n",
    "        prediction = createGamePrediction(team1_vector, team2_vector, xTrain, yTrain)\n",
    "        probs[index][0] = team1_Name\n",
    "        probs[index][1] = team2_Name\n",
    "        probs[index][2] = prediction\n",
    "    probs = pd.np.array(probs)\n",
    "    return probs"
   ]
  },
  {
   "cell_type": "code",
   "execution_count": 34,
   "metadata": {},
   "outputs": [
    {
     "name": "stdout",
     "output_type": "stream",
     "text": [
      "[['Arsenal' 'Coventry' '1.0']\n",
      " ['Aston Villa' 'QPR' '1.0']\n",
      " ['Chelsea' 'Blackburn' '0.0']\n",
      " ...\n",
      " ['Arsenal' 'Man City' '0.0']\n",
      " ['Liverpool' 'West Ham' '1.0']\n",
      " ['Southampton' 'Burnley' '1.0']]\n"
     ]
    }
   ],
   "source": [
    "a = formulatePrediction()\n",
    "print (a)"
   ]
  },
  {
   "cell_type": "code",
   "execution_count": 32,
   "metadata": {},
   "outputs": [],
   "source": []
  },
  {
   "cell_type": "code",
   "execution_count": null,
   "metadata": {},
   "outputs": [],
   "source": []
  }
 ],
 "metadata": {
  "kernelspec": {
   "display_name": "Python 3",
   "language": "python",
   "name": "python3"
  },
  "language_info": {
   "codemirror_mode": {
    "name": "ipython",
    "version": 3
   },
   "file_extension": ".py",
   "mimetype": "text/x-python",
   "name": "python",
   "nbconvert_exporter": "python",
   "pygments_lexer": "ipython3",
   "version": "3.6.5"
  }
 },
 "nbformat": 4,
 "nbformat_minor": 2
}
